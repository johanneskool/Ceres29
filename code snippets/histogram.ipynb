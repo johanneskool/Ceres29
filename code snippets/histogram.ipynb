{
  "cells": [
    {
      "cell_type": "code",
      "execution_count": null,
      "metadata": {
        "pycharm": {
          "is_executing": true,
          "metadata": false,
          "name": "#%%\n"
        }
      },
      "outputs": [],
      "source": "import pandas as pd\n%matplotlib inline\nimport matplotlib as mpl\nimport matplotlib.pyplot as plt\ndf \u003d pd.read_csv(\u0027./GephiMatrix_co-citation.csv\u0027, sep\u003d\u0027;\u0027, header\u003d0, engine\u003d\u0027c\u0027)\ndf.drop(df.columns[len(df.columns)-1], axis\u003d1, inplace\u003dTrue)\ndf.head()\nfig, ax \u003d plt.subplots()\ndf.sum(axis\u003d0).hist(ax\u003dax, bins\u003d50, bottom\u003d0.1);\nax.set_ylim(0, 100)\nax.set_xscale(\u0027log\u0027)"
    },
    {
      "cell_type": "markdown",
      "metadata": {
        "pycharm": {
          "metadata": false
        }
      },
      "source": []
    }
  ],
  "metadata": {
    "kernelspec": {
      "display_name": "Python 3",
      "language": "python",
      "name": "python3"
    },
    "language_info": {
      "codemirror_mode": {
        "name": "ipython",
        "version": 3
      },
      "file_extension": ".py",
      "mimetype": "text/x-python",
      "name": "python",
      "nbconvert_exporter": "python",
      "pygments_lexer": "ipython3",
      "version": "3.7.3"
    },
    "stem_cell": {
      "cell_type": "raw",
      "metadata": {
        "pycharm": {
          "metadata": false
        }
      },
      "source": ""
    }
  },
  "nbformat": 4,
  "nbformat_minor": 1
}